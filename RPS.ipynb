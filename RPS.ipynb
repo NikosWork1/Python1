{
 "cells": [
  {
   "cell_type": "markdown",
   "id": "deccd29b-3690-4a09-be5f-7730c9b5b4dd",
   "metadata": {},
   "source": [
    "**\"Rock,Paper,Scissors\"**"
   ]
  },
  {
   "cell_type": "code",
   "execution_count": 26,
   "id": "e7e35edc-78a5-450b-b5e3-57ecf6bec29b",
   "metadata": {},
   "outputs": [
    {
     "name": "stdin",
     "output_type": "stream",
     "text": [
      "Enter rock, paper, or scissors:  paper\n"
     ]
    },
    {
     "name": "stdout",
     "output_type": "stream",
     "text": [
      "You chose paper, computer chose rock.\n",
      "You win\n"
     ]
    }
   ],
   "source": [
    "import random\n",
    "\n",
    "def get_computer_choice():\n",
    "    choices = [\"rock\", \"paper\", \"scissors\"]\n",
    "    return random.choice(choices)\n",
    "\n",
    "def decide_winner(user, computer):\n",
    "    if user == computer:\n",
    "        return \"It's a tie!\"\n",
    "    elif (user == \"rock\" and computer == \"scissors\") or \\\n",
    "         (user == \"scissors\" and computer == \"paper\") or \\\n",
    "         (user == \"paper\" and computer == \"rock\"):\n",
    "        return \"You win\"\n",
    "    else:\n",
    "        return \"Computer wins!\"\n",
    "\n",
    "user_choice = input(\"Enter rock, paper, or scissors: \").lower()\n",
    "computer_choice = get_computer_choice()\n",
    "\n",
    "print(f\"You chose {user_choice}, computer chose {computer_choice}.\")\n",
    "\n",
    "print(decide_winner(user_choice, computer_choice))"
   ]
  },
  {
   "cell_type": "code",
   "execution_count": null,
   "id": "ecd59fd0-380a-4dff-af86-e6287cd1451e",
   "metadata": {},
   "outputs": [],
   "source": []
  }
 ],
 "metadata": {
  "kernelspec": {
   "display_name": "Python 3 (ipykernel)",
   "language": "python",
   "name": "python3"
  },
  "language_info": {
   "codemirror_mode": {
    "name": "ipython",
    "version": 3
   },
   "file_extension": ".py",
   "mimetype": "text/x-python",
   "name": "python",
   "nbconvert_exporter": "python",
   "pygments_lexer": "ipython3",
   "version": "3.12.4"
  }
 },
 "nbformat": 4,
 "nbformat_minor": 5
}
